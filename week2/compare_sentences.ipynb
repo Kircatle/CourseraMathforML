{
 "cells": [
  {
   "cell_type": "markdown",
   "metadata": {},
   "source": [
    "# Задание 1"
   ]
  },
  {
   "cell_type": "code",
   "execution_count": 5,
   "metadata": {},
   "outputs": [],
   "source": [
    "import re\n",
    "import numpy as np\n",
    "import scipy.spatial\n",
    "import scipy.linalg\n"
   ]
  },
  {
   "cell_type": "code",
   "execution_count": 7,
   "metadata": {},
   "outputs": [],
   "source": [
    "with open(\"sentences.txt\", \"r\") as file:\n",
    "    sentences = list()\n",
    "    all_words = dict()\n",
    "    for line in file:\n",
    "        word_list = re.split('[^a-z]', line.lower())\n",
    "        word_list = list(filter(lambda word: word != '', word_list))\n",
    "        sentences.append(word_list)\n",
    "i = 0\n",
    "for sentence in sentences:\n",
    "    for word in sentence:\n",
    "        if all_words.get(word) is None:\n",
    "            all_words.update({word: i})\n",
    "            i+=1\n",
    "        else:\n",
    "            continue       \n",
    "    "
   ]
  },
  {
   "cell_type": "code",
   "execution_count": 8,
   "metadata": {},
   "outputs": [],
   "source": [
    "matrix = np.zeros((22,254), dtype=int)\n",
    "i = 0\n",
    "for sentence in sentences:\n",
    "    for word in sentence:\n",
    "        j = all_words[word]\n",
    "        matrix[i,j] += 1\n",
    "    i+=1"
   ]
  },
  {
   "cell_type": "code",
   "execution_count": 10,
   "metadata": {},
   "outputs": [],
   "source": [
    "def getCosine(row):\n",
    "    row = np.asarray(row)\n",
    "    return scipy.spatial.distance.cosine(matrix[0], row)\n",
    "\n",
    "array = list()\n",
    "matrix.shape\n",
    "array = np.apply_along_axis(getCosine, axis=1, arr=matrix)"
   ]
  },
  {
   "cell_type": "code",
   "execution_count": 11,
   "metadata": {},
   "outputs": [],
   "source": [
    "array1 = np.sort(array)[1:3]"
   ]
  },
  {
   "cell_type": "code",
   "execution_count": 13,
   "metadata": {},
   "outputs": [
    {
     "data": {
      "text/plain": [
       "array([0.73273876, 0.77708871])"
      ]
     },
     "execution_count": 13,
     "metadata": {},
     "output_type": "execute_result"
    }
   ],
   "source": [
    "min1 = array1"
   ]
  },
  {
   "cell_type": "code",
   "execution_count": null,
   "metadata": {},
   "outputs": [],
   "source": []
  }
 ],
 "metadata": {
  "kernelspec": {
   "display_name": "Python 3",
   "language": "python",
   "name": "python3"
  },
  "language_info": {
   "codemirror_mode": {
    "name": "ipython",
    "version": 3
   },
   "file_extension": ".py",
   "mimetype": "text/x-python",
   "name": "python",
   "nbconvert_exporter": "python",
   "pygments_lexer": "ipython3",
   "version": "3.8.3"
  }
 },
 "nbformat": 4,
 "nbformat_minor": 4
}
